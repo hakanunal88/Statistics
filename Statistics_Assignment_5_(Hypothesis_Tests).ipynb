{
  "nbformat": 4,
  "nbformat_minor": 0,
  "metadata": {
    "colab": {
      "name": "Statistics Assignment-5 (Hypothesis Tests).ipynb",
      "provenance": []
    },
    "kernelspec": {
      "name": "python3",
      "display_name": "Python 3"
    },
    "language_info": {
      "name": "python"
    }
  },
  "cells": [
    {
      "cell_type": "code",
      "metadata": {
        "id": "HVwAaMkD5MJP"
      },
      "source": [
        "import numpy as np\n",
        "import pandas as pd\n",
        "from scipy import stats"
      ],
      "execution_count": 1,
      "outputs": []
    },
    {
      "cell_type": "markdown",
      "metadata": {
        "id": "vkK5tD9Kw4dX"
      },
      "source": [
        "# EXERCISE 1. The hourly wages in a particular industry are normally distributed with mean $13.20 and standard deviation $2.50. A company in this industry employs 40 workers, paying them an average of $12.20 per hour. Can this company be accused of paying substandard wages? Use an α = .01 level test."
      ]
    },
    {
      "cell_type": "code",
      "metadata": {
        "id": "mC8_03g85KH1"
      },
      "source": [
        "mean1 = 13.20\n",
        "mean2 = 12.20\n",
        "std = 2.50\n",
        "sample = 40"
      ],
      "execution_count": 2,
      "outputs": []
    },
    {
      "cell_type": "code",
      "metadata": {
        "colab": {
          "base_uri": "https://localhost:8080/"
        },
        "id": "e1osKACKBu1Z",
        "outputId": "c0be4904-b0b4-4562-f3f4-460f11235134"
      },
      "source": [
        "z_test = (mean2 - mean1) / (std / np.sqrt(sample))\n",
        "z_test"
      ],
      "execution_count": 3,
      "outputs": [
        {
          "output_type": "execute_result",
          "data": {
            "text/plain": [
              "-2.5298221281347035"
            ]
          },
          "metadata": {},
          "execution_count": 3
        }
      ]
    },
    {
      "cell_type": "markdown",
      "metadata": {
        "id": "m0JvTnMkCSCD"
      },
      "source": [
        "-z0.01 = -2.326\n",
        "\n",
        "-2.53 < -z0.01. So, H0 is rejected: there is evidence that the company is paying substandard wages."
      ]
    },
    {
      "cell_type": "markdown",
      "metadata": {
        "id": "IFDKcGi_vFkJ"
      },
      "source": [
        "# EXERCISE 2. Shear strength measurements derived from unconfined compression tests for two types of soils gave the results shown in the following document (measurements in tons per square foot). Do the soils appear to differ with respect to average shear strength, at the 1% significance level?"
      ]
    },
    {
      "cell_type": "code",
      "metadata": {
        "colab": {
          "base_uri": "https://localhost:8080/",
          "height": 203
        },
        "id": "CV3ioTZhvMdM",
        "outputId": "684ea413-a3d1-4635-ae3b-9be3d86c4772"
      },
      "source": [
        "soil = pd.read_csv(\"/content/soil - Sheet1.csv\")\n",
        "soil.head()"
      ],
      "execution_count": 4,
      "outputs": [
        {
          "output_type": "execute_result",
          "data": {
            "text/html": [
              "<div>\n",
              "<style scoped>\n",
              "    .dataframe tbody tr th:only-of-type {\n",
              "        vertical-align: middle;\n",
              "    }\n",
              "\n",
              "    .dataframe tbody tr th {\n",
              "        vertical-align: top;\n",
              "    }\n",
              "\n",
              "    .dataframe thead th {\n",
              "        text-align: right;\n",
              "    }\n",
              "</style>\n",
              "<table border=\"1\" class=\"dataframe\">\n",
              "  <thead>\n",
              "    <tr style=\"text-align: right;\">\n",
              "      <th></th>\n",
              "      <th>Soil1</th>\n",
              "      <th>Soil2</th>\n",
              "    </tr>\n",
              "  </thead>\n",
              "  <tbody>\n",
              "    <tr>\n",
              "      <th>0</th>\n",
              "      <td>1.442</td>\n",
              "      <td>1.364</td>\n",
              "    </tr>\n",
              "    <tr>\n",
              "      <th>1</th>\n",
              "      <td>1.943</td>\n",
              "      <td>1.878</td>\n",
              "    </tr>\n",
              "    <tr>\n",
              "      <th>2</th>\n",
              "      <td>1.110</td>\n",
              "      <td>1.337</td>\n",
              "    </tr>\n",
              "    <tr>\n",
              "      <th>3</th>\n",
              "      <td>1.912</td>\n",
              "      <td>1.828</td>\n",
              "    </tr>\n",
              "    <tr>\n",
              "      <th>4</th>\n",
              "      <td>1.553</td>\n",
              "      <td>1.371</td>\n",
              "    </tr>\n",
              "  </tbody>\n",
              "</table>\n",
              "</div>"
            ],
            "text/plain": [
              "   Soil1  Soil2\n",
              "0  1.442  1.364\n",
              "1  1.943  1.878\n",
              "2  1.110  1.337\n",
              "3  1.912  1.828\n",
              "4  1.553  1.371"
            ]
          },
          "metadata": {},
          "execution_count": 4
        }
      ]
    },
    {
      "cell_type": "code",
      "metadata": {
        "colab": {
          "base_uri": "https://localhost:8080/"
        },
        "id": "VoUB6Etmwdhu",
        "outputId": "5e7efa29-4f42-4270-dd06-29257217c266"
      },
      "source": [
        "stats.ttest_ind(soil[\"Soil1\"], soil[\"Soil2\"], nan_policy=\"omit\")"
      ],
      "execution_count": 5,
      "outputs": [
        {
          "output_type": "execute_result",
          "data": {
            "text/plain": [
              "Ttest_indResult(statistic=5.1681473319343345, pvalue=2.5932287323528147e-06)"
            ]
          },
          "metadata": {},
          "execution_count": 5
        }
      ]
    },
    {
      "cell_type": "markdown",
      "metadata": {
        "id": "C_tdqcyHxloy"
      },
      "source": [
        "With α = .01, the test rejects if |t| > 2.576. So, we can reject the hypothesis that the soils have equal mean shear strengths."
      ]
    },
    {
      "cell_type": "markdown",
      "metadata": {
        "id": "qIQpUCNEgsnD"
      },
      "source": [
        "# EXERCISE 3. The following dataset is based on data provided by the World Bank (https://datacatalog.worldbank.org/dataset/education-statistics). World Bank Edstats."
      ]
    },
    {
      "cell_type": "markdown",
      "metadata": {
        "id": "bRmAHDYchSJn"
      },
      "source": [
        "1. Get descriptive statistics (the central tendency, dispersion and shape of a dataset’s distribution) for each continent group (AS, EU, AF, NA, SA, OC)."
      ]
    },
    {
      "cell_type": "code",
      "metadata": {
        "id": "Lyp8_DXDbEvi"
      },
      "source": [
        "import numpy as np\n",
        "import pandas as pd\n",
        "from scipy import stats"
      ],
      "execution_count": 6,
      "outputs": []
    },
    {
      "cell_type": "code",
      "metadata": {
        "colab": {
          "base_uri": "https://localhost:8080/",
          "height": 203
        },
        "id": "ER8m7kbRMVxr",
        "outputId": "ae8f5013-a57b-4274-f968-c222cbbc7fad"
      },
      "source": [
        "df = pd.read_csv(\"/content/2015 PISA Test - Sheet1.csv\")\n",
        "df.head()"
      ],
      "execution_count": 7,
      "outputs": [
        {
          "output_type": "execute_result",
          "data": {
            "text/html": [
              "<div>\n",
              "<style scoped>\n",
              "    .dataframe tbody tr th:only-of-type {\n",
              "        vertical-align: middle;\n",
              "    }\n",
              "\n",
              "    .dataframe tbody tr th {\n",
              "        vertical-align: top;\n",
              "    }\n",
              "\n",
              "    .dataframe thead th {\n",
              "        text-align: right;\n",
              "    }\n",
              "</style>\n",
              "<table border=\"1\" class=\"dataframe\">\n",
              "  <thead>\n",
              "    <tr style=\"text-align: right;\">\n",
              "      <th></th>\n",
              "      <th>Country Code</th>\n",
              "      <th>Continent_Code</th>\n",
              "      <th>internet_users_per_100</th>\n",
              "      <th>Math</th>\n",
              "      <th>Reading</th>\n",
              "      <th>Science</th>\n",
              "    </tr>\n",
              "  </thead>\n",
              "  <tbody>\n",
              "    <tr>\n",
              "      <th>0</th>\n",
              "      <td>ALB</td>\n",
              "      <td>EU</td>\n",
              "      <td>63.252933</td>\n",
              "      <td>413.1570</td>\n",
              "      <td>405.2588</td>\n",
              "      <td>427.2250</td>\n",
              "    </tr>\n",
              "    <tr>\n",
              "      <th>1</th>\n",
              "      <td>ARE</td>\n",
              "      <td>AS</td>\n",
              "      <td>90.500000</td>\n",
              "      <td>427.4827</td>\n",
              "      <td>433.5423</td>\n",
              "      <td>436.7311</td>\n",
              "    </tr>\n",
              "    <tr>\n",
              "      <th>2</th>\n",
              "      <td>ARG</td>\n",
              "      <td>SA</td>\n",
              "      <td>68.043064</td>\n",
              "      <td>409.0333</td>\n",
              "      <td>425.3031</td>\n",
              "      <td>432.2262</td>\n",
              "    </tr>\n",
              "    <tr>\n",
              "      <th>3</th>\n",
              "      <td>AUS</td>\n",
              "      <td>OC</td>\n",
              "      <td>84.560519</td>\n",
              "      <td>493.8962</td>\n",
              "      <td>502.9006</td>\n",
              "      <td>509.9939</td>\n",
              "    </tr>\n",
              "    <tr>\n",
              "      <th>4</th>\n",
              "      <td>AUT</td>\n",
              "      <td>EU</td>\n",
              "      <td>83.940142</td>\n",
              "      <td>496.7423</td>\n",
              "      <td>484.8656</td>\n",
              "      <td>495.0375</td>\n",
              "    </tr>\n",
              "  </tbody>\n",
              "</table>\n",
              "</div>"
            ],
            "text/plain": [
              "  Country Code Continent_Code  ...   Reading   Science\n",
              "0          ALB             EU  ...  405.2588  427.2250\n",
              "1          ARE             AS  ...  433.5423  436.7311\n",
              "2          ARG             SA  ...  425.3031  432.2262\n",
              "3          AUS             OC  ...  502.9006  509.9939\n",
              "4          AUT             EU  ...  484.8656  495.0375\n",
              "\n",
              "[5 rows x 6 columns]"
            ]
          },
          "metadata": {},
          "execution_count": 7
        }
      ]
    },
    {
      "cell_type": "code",
      "metadata": {
        "colab": {
          "base_uri": "https://localhost:8080/",
          "height": 315
        },
        "id": "C5pZwNKyqbbd",
        "outputId": "88bbcd29-5f22-4de8-eda1-fce838598045"
      },
      "source": [
        "df.groupby([\"Continent_Code\"], dropna=False).describe()"
      ],
      "execution_count": 8,
      "outputs": [
        {
          "output_type": "execute_result",
          "data": {
            "text/html": [
              "<div>\n",
              "<style scoped>\n",
              "    .dataframe tbody tr th:only-of-type {\n",
              "        vertical-align: middle;\n",
              "    }\n",
              "\n",
              "    .dataframe tbody tr th {\n",
              "        vertical-align: top;\n",
              "    }\n",
              "\n",
              "    .dataframe thead tr th {\n",
              "        text-align: left;\n",
              "    }\n",
              "\n",
              "    .dataframe thead tr:last-of-type th {\n",
              "        text-align: right;\n",
              "    }\n",
              "</style>\n",
              "<table border=\"1\" class=\"dataframe\">\n",
              "  <thead>\n",
              "    <tr>\n",
              "      <th></th>\n",
              "      <th colspan=\"8\" halign=\"left\">internet_users_per_100</th>\n",
              "      <th colspan=\"8\" halign=\"left\">Math</th>\n",
              "      <th colspan=\"8\" halign=\"left\">Reading</th>\n",
              "      <th colspan=\"8\" halign=\"left\">Science</th>\n",
              "    </tr>\n",
              "    <tr>\n",
              "      <th></th>\n",
              "      <th>count</th>\n",
              "      <th>mean</th>\n",
              "      <th>std</th>\n",
              "      <th>min</th>\n",
              "      <th>25%</th>\n",
              "      <th>50%</th>\n",
              "      <th>75%</th>\n",
              "      <th>max</th>\n",
              "      <th>count</th>\n",
              "      <th>mean</th>\n",
              "      <th>std</th>\n",
              "      <th>min</th>\n",
              "      <th>25%</th>\n",
              "      <th>50%</th>\n",
              "      <th>75%</th>\n",
              "      <th>max</th>\n",
              "      <th>count</th>\n",
              "      <th>mean</th>\n",
              "      <th>std</th>\n",
              "      <th>min</th>\n",
              "      <th>25%</th>\n",
              "      <th>50%</th>\n",
              "      <th>75%</th>\n",
              "      <th>max</th>\n",
              "      <th>count</th>\n",
              "      <th>mean</th>\n",
              "      <th>std</th>\n",
              "      <th>min</th>\n",
              "      <th>25%</th>\n",
              "      <th>50%</th>\n",
              "      <th>75%</th>\n",
              "      <th>max</th>\n",
              "    </tr>\n",
              "    <tr>\n",
              "      <th>Continent_Code</th>\n",
              "      <th></th>\n",
              "      <th></th>\n",
              "      <th></th>\n",
              "      <th></th>\n",
              "      <th></th>\n",
              "      <th></th>\n",
              "      <th></th>\n",
              "      <th></th>\n",
              "      <th></th>\n",
              "      <th></th>\n",
              "      <th></th>\n",
              "      <th></th>\n",
              "      <th></th>\n",
              "      <th></th>\n",
              "      <th></th>\n",
              "      <th></th>\n",
              "      <th></th>\n",
              "      <th></th>\n",
              "      <th></th>\n",
              "      <th></th>\n",
              "      <th></th>\n",
              "      <th></th>\n",
              "      <th></th>\n",
              "      <th></th>\n",
              "      <th></th>\n",
              "      <th></th>\n",
              "      <th></th>\n",
              "      <th></th>\n",
              "      <th></th>\n",
              "      <th></th>\n",
              "      <th></th>\n",
              "      <th></th>\n",
              "    </tr>\n",
              "  </thead>\n",
              "  <tbody>\n",
              "    <tr>\n",
              "      <th>AF</th>\n",
              "      <td>2.0</td>\n",
              "      <td>43.359918</td>\n",
              "      <td>7.297226</td>\n",
              "      <td>38.200000</td>\n",
              "      <td>40.779959</td>\n",
              "      <td>43.359918</td>\n",
              "      <td>45.939877</td>\n",
              "      <td>48.519836</td>\n",
              "      <td>2.0</td>\n",
              "      <td>363.212100</td>\n",
              "      <td>5.099513</td>\n",
              "      <td>359.6062</td>\n",
              "      <td>361.409150</td>\n",
              "      <td>363.21210</td>\n",
              "      <td>365.015050</td>\n",
              "      <td>366.8180</td>\n",
              "      <td>2.0</td>\n",
              "      <td>355.457400</td>\n",
              "      <td>7.916909</td>\n",
              "      <td>349.8593</td>\n",
              "      <td>352.658350</td>\n",
              "      <td>355.45740</td>\n",
              "      <td>358.256450</td>\n",
              "      <td>361.0555</td>\n",
              "      <td>2.0</td>\n",
              "      <td>381.074250</td>\n",
              "      <td>7.536556</td>\n",
              "      <td>375.7451</td>\n",
              "      <td>378.409675</td>\n",
              "      <td>381.07425</td>\n",
              "      <td>383.738825</td>\n",
              "      <td>386.4034</td>\n",
              "    </tr>\n",
              "    <tr>\n",
              "      <th>AS</th>\n",
              "      <td>17.0</td>\n",
              "      <td>68.455613</td>\n",
              "      <td>21.086060</td>\n",
              "      <td>21.976068</td>\n",
              "      <td>50.300000</td>\n",
              "      <td>74.000000</td>\n",
              "      <td>84.948353</td>\n",
              "      <td>92.884826</td>\n",
              "      <td>17.0</td>\n",
              "      <td>466.216647</td>\n",
              "      <td>64.356490</td>\n",
              "      <td>380.2590</td>\n",
              "      <td>403.833200</td>\n",
              "      <td>459.81600</td>\n",
              "      <td>531.296100</td>\n",
              "      <td>564.1897</td>\n",
              "      <td>17.0</td>\n",
              "      <td>454.059682</td>\n",
              "      <td>57.048962</td>\n",
              "      <td>346.5490</td>\n",
              "      <td>408.102200</td>\n",
              "      <td>433.54230</td>\n",
              "      <td>508.690500</td>\n",
              "      <td>535.1002</td>\n",
              "      <td>17.0</td>\n",
              "      <td>467.945847</td>\n",
              "      <td>56.671371</td>\n",
              "      <td>386.4854</td>\n",
              "      <td>417.611200</td>\n",
              "      <td>456.48360</td>\n",
              "      <td>523.277400</td>\n",
              "      <td>555.5747</td>\n",
              "    </tr>\n",
              "    <tr>\n",
              "      <th>EU</th>\n",
              "      <td>37.0</td>\n",
              "      <td>77.274888</td>\n",
              "      <td>12.425773</td>\n",
              "      <td>53.744979</td>\n",
              "      <td>68.632900</td>\n",
              "      <td>76.184000</td>\n",
              "      <td>87.479056</td>\n",
              "      <td>98.200000</td>\n",
              "      <td>37.0</td>\n",
              "      <td>477.981449</td>\n",
              "      <td>35.150403</td>\n",
              "      <td>371.3114</td>\n",
              "      <td>464.040100</td>\n",
              "      <td>489.72870</td>\n",
              "      <td>503.722000</td>\n",
              "      <td>521.2506</td>\n",
              "      <td>37.0</td>\n",
              "      <td>476.164608</td>\n",
              "      <td>37.720545</td>\n",
              "      <td>351.7415</td>\n",
              "      <td>452.514300</td>\n",
              "      <td>487.25010</td>\n",
              "      <td>499.814600</td>\n",
              "      <td>526.4247</td>\n",
              "      <td>37.0</td>\n",
              "      <td>478.299381</td>\n",
              "      <td>34.450616</td>\n",
              "      <td>383.6824</td>\n",
              "      <td>460.774900</td>\n",
              "      <td>490.22500</td>\n",
              "      <td>501.936900</td>\n",
              "      <td>534.1937</td>\n",
              "    </tr>\n",
              "    <tr>\n",
              "      <th>OC</th>\n",
              "      <td>2.0</td>\n",
              "      <td>86.391704</td>\n",
              "      <td>2.589686</td>\n",
              "      <td>84.560519</td>\n",
              "      <td>85.476112</td>\n",
              "      <td>86.391704</td>\n",
              "      <td>87.307296</td>\n",
              "      <td>88.222889</td>\n",
              "      <td>2.0</td>\n",
              "      <td>494.559750</td>\n",
              "      <td>0.938401</td>\n",
              "      <td>493.8962</td>\n",
              "      <td>494.227975</td>\n",
              "      <td>494.55975</td>\n",
              "      <td>494.891525</td>\n",
              "      <td>495.2233</td>\n",
              "      <td>2.0</td>\n",
              "      <td>506.085650</td>\n",
              "      <td>4.504341</td>\n",
              "      <td>502.9006</td>\n",
              "      <td>504.493125</td>\n",
              "      <td>506.08565</td>\n",
              "      <td>507.678175</td>\n",
              "      <td>509.2707</td>\n",
              "      <td>2.0</td>\n",
              "      <td>511.648700</td>\n",
              "      <td>2.340241</td>\n",
              "      <td>509.9939</td>\n",
              "      <td>510.821300</td>\n",
              "      <td>511.64870</td>\n",
              "      <td>512.476100</td>\n",
              "      <td>513.3035</td>\n",
              "    </tr>\n",
              "    <tr>\n",
              "      <th>SA</th>\n",
              "      <td>7.0</td>\n",
              "      <td>60.180494</td>\n",
              "      <td>9.772455</td>\n",
              "      <td>40.900000</td>\n",
              "      <td>57.116462</td>\n",
              "      <td>64.289000</td>\n",
              "      <td>66.321532</td>\n",
              "      <td>69.198471</td>\n",
              "      <td>7.0</td>\n",
              "      <td>402.887700</td>\n",
              "      <td>18.128894</td>\n",
              "      <td>377.0695</td>\n",
              "      <td>388.102200</td>\n",
              "      <td>409.03330</td>\n",
              "      <td>417.617650</td>\n",
              "      <td>422.6714</td>\n",
              "      <td>7.0</td>\n",
              "      <td>425.359229</td>\n",
              "      <td>19.709688</td>\n",
              "      <td>397.5414</td>\n",
              "      <td>416.126900</td>\n",
              "      <td>425.30310</td>\n",
              "      <td>431.922700</td>\n",
              "      <td>458.5709</td>\n",
              "      <td>7.0</td>\n",
              "      <td>421.747186</td>\n",
              "      <td>18.470319</td>\n",
              "      <td>396.6836</td>\n",
              "      <td>408.205450</td>\n",
              "      <td>424.59050</td>\n",
              "      <td>433.794600</td>\n",
              "      <td>446.9561</td>\n",
              "    </tr>\n",
              "    <tr>\n",
              "      <th>NaN</th>\n",
              "      <td>5.0</td>\n",
              "      <td>66.886792</td>\n",
              "      <td>14.364359</td>\n",
              "      <td>54.215766</td>\n",
              "      <td>57.431043</td>\n",
              "      <td>59.762950</td>\n",
              "      <td>74.554202</td>\n",
              "      <td>88.470000</td>\n",
              "      <td>5.0</td>\n",
              "      <td>424.250960</td>\n",
              "      <td>71.717058</td>\n",
              "      <td>327.7020</td>\n",
              "      <td>400.253400</td>\n",
              "      <td>408.02350</td>\n",
              "      <td>469.628500</td>\n",
              "      <td>515.6474</td>\n",
              "      <td>5.0</td>\n",
              "      <td>446.420920</td>\n",
              "      <td>66.614744</td>\n",
              "      <td>357.7377</td>\n",
              "      <td>423.276500</td>\n",
              "      <td>427.48750</td>\n",
              "      <td>496.935100</td>\n",
              "      <td>526.6678</td>\n",
              "      <td>5.0</td>\n",
              "      <td>438.180760</td>\n",
              "      <td>76.789918</td>\n",
              "      <td>331.6388</td>\n",
              "      <td>415.709900</td>\n",
              "      <td>419.60800</td>\n",
              "      <td>496.242400</td>\n",
              "      <td>527.7047</td>\n",
              "    </tr>\n",
              "  </tbody>\n",
              "</table>\n",
              "</div>"
            ],
            "text/plain": [
              "               internet_users_per_100             ...     Science          \n",
              "                                count       mean  ...         75%       max\n",
              "Continent_Code                                    ...                      \n",
              "AF                                2.0  43.359918  ...  383.738825  386.4034\n",
              "AS                               17.0  68.455613  ...  523.277400  555.5747\n",
              "EU                               37.0  77.274888  ...  501.936900  534.1937\n",
              "OC                                2.0  86.391704  ...  512.476100  513.3035\n",
              "SA                                7.0  60.180494  ...  433.794600  446.9561\n",
              "NaN                               5.0  66.886792  ...  496.242400  527.7047\n",
              "\n",
              "[6 rows x 32 columns]"
            ]
          },
          "metadata": {},
          "execution_count": 8
        }
      ]
    },
    {
      "cell_type": "code",
      "metadata": {
        "colab": {
          "base_uri": "https://localhost:8080/",
          "height": 265
        },
        "id": "EBOJVgzyOLnQ",
        "outputId": "0d103918-0240-4607-cfe6-afe74ca53eb2"
      },
      "source": [
        "df_mean = df.groupby([\"Continent_Code\"], dropna=False).mean()\n",
        "df_mean"
      ],
      "execution_count": 55,
      "outputs": [
        {
          "output_type": "execute_result",
          "data": {
            "text/html": [
              "<div>\n",
              "<style scoped>\n",
              "    .dataframe tbody tr th:only-of-type {\n",
              "        vertical-align: middle;\n",
              "    }\n",
              "\n",
              "    .dataframe tbody tr th {\n",
              "        vertical-align: top;\n",
              "    }\n",
              "\n",
              "    .dataframe thead th {\n",
              "        text-align: right;\n",
              "    }\n",
              "</style>\n",
              "<table border=\"1\" class=\"dataframe\">\n",
              "  <thead>\n",
              "    <tr style=\"text-align: right;\">\n",
              "      <th></th>\n",
              "      <th>internet_users_per_100</th>\n",
              "      <th>Math</th>\n",
              "      <th>Reading</th>\n",
              "      <th>Science</th>\n",
              "    </tr>\n",
              "    <tr>\n",
              "      <th>Continent_Code</th>\n",
              "      <th></th>\n",
              "      <th></th>\n",
              "      <th></th>\n",
              "      <th></th>\n",
              "    </tr>\n",
              "  </thead>\n",
              "  <tbody>\n",
              "    <tr>\n",
              "      <th>AF</th>\n",
              "      <td>43.359918</td>\n",
              "      <td>363.212100</td>\n",
              "      <td>355.457400</td>\n",
              "      <td>381.074250</td>\n",
              "    </tr>\n",
              "    <tr>\n",
              "      <th>AS</th>\n",
              "      <td>68.455613</td>\n",
              "      <td>466.216647</td>\n",
              "      <td>454.059682</td>\n",
              "      <td>467.945847</td>\n",
              "    </tr>\n",
              "    <tr>\n",
              "      <th>EU</th>\n",
              "      <td>77.274888</td>\n",
              "      <td>477.981449</td>\n",
              "      <td>476.164608</td>\n",
              "      <td>478.299381</td>\n",
              "    </tr>\n",
              "    <tr>\n",
              "      <th>OC</th>\n",
              "      <td>86.391704</td>\n",
              "      <td>494.559750</td>\n",
              "      <td>506.085650</td>\n",
              "      <td>511.648700</td>\n",
              "    </tr>\n",
              "    <tr>\n",
              "      <th>SA</th>\n",
              "      <td>60.180494</td>\n",
              "      <td>402.887700</td>\n",
              "      <td>425.359229</td>\n",
              "      <td>421.747186</td>\n",
              "    </tr>\n",
              "    <tr>\n",
              "      <th>NaN</th>\n",
              "      <td>66.886792</td>\n",
              "      <td>424.250960</td>\n",
              "      <td>446.420920</td>\n",
              "      <td>438.180760</td>\n",
              "    </tr>\n",
              "  </tbody>\n",
              "</table>\n",
              "</div>"
            ],
            "text/plain": [
              "                internet_users_per_100        Math     Reading     Science\n",
              "Continent_Code                                                            \n",
              "AF                           43.359918  363.212100  355.457400  381.074250\n",
              "AS                           68.455613  466.216647  454.059682  467.945847\n",
              "EU                           77.274888  477.981449  476.164608  478.299381\n",
              "OC                           86.391704  494.559750  506.085650  511.648700\n",
              "SA                           60.180494  402.887700  425.359229  421.747186\n",
              "NaN                          66.886792  424.250960  446.420920  438.180760"
            ]
          },
          "metadata": {},
          "execution_count": 55
        }
      ]
    },
    {
      "cell_type": "code",
      "metadata": {
        "colab": {
          "base_uri": "https://localhost:8080/",
          "height": 265
        },
        "id": "5sTMwIKha79K",
        "outputId": "60eb4439-4b44-4bd7-ff28-7b58b20d5efd"
      },
      "source": [
        "df_median = df.groupby([\"Continent_Code\"], dropna=False).median()\n",
        "df_median"
      ],
      "execution_count": 56,
      "outputs": [
        {
          "output_type": "execute_result",
          "data": {
            "text/html": [
              "<div>\n",
              "<style scoped>\n",
              "    .dataframe tbody tr th:only-of-type {\n",
              "        vertical-align: middle;\n",
              "    }\n",
              "\n",
              "    .dataframe tbody tr th {\n",
              "        vertical-align: top;\n",
              "    }\n",
              "\n",
              "    .dataframe thead th {\n",
              "        text-align: right;\n",
              "    }\n",
              "</style>\n",
              "<table border=\"1\" class=\"dataframe\">\n",
              "  <thead>\n",
              "    <tr style=\"text-align: right;\">\n",
              "      <th></th>\n",
              "      <th>internet_users_per_100</th>\n",
              "      <th>Math</th>\n",
              "      <th>Reading</th>\n",
              "      <th>Science</th>\n",
              "    </tr>\n",
              "    <tr>\n",
              "      <th>Continent_Code</th>\n",
              "      <th></th>\n",
              "      <th></th>\n",
              "      <th></th>\n",
              "      <th></th>\n",
              "    </tr>\n",
              "  </thead>\n",
              "  <tbody>\n",
              "    <tr>\n",
              "      <th>AF</th>\n",
              "      <td>43.359918</td>\n",
              "      <td>363.21210</td>\n",
              "      <td>355.45740</td>\n",
              "      <td>381.07425</td>\n",
              "    </tr>\n",
              "    <tr>\n",
              "      <th>AS</th>\n",
              "      <td>74.000000</td>\n",
              "      <td>459.81600</td>\n",
              "      <td>433.54230</td>\n",
              "      <td>456.48360</td>\n",
              "    </tr>\n",
              "    <tr>\n",
              "      <th>EU</th>\n",
              "      <td>76.184000</td>\n",
              "      <td>489.72870</td>\n",
              "      <td>487.25010</td>\n",
              "      <td>490.22500</td>\n",
              "    </tr>\n",
              "    <tr>\n",
              "      <th>OC</th>\n",
              "      <td>86.391704</td>\n",
              "      <td>494.55975</td>\n",
              "      <td>506.08565</td>\n",
              "      <td>511.64870</td>\n",
              "    </tr>\n",
              "    <tr>\n",
              "      <th>SA</th>\n",
              "      <td>64.289000</td>\n",
              "      <td>409.03330</td>\n",
              "      <td>425.30310</td>\n",
              "      <td>424.59050</td>\n",
              "    </tr>\n",
              "    <tr>\n",
              "      <th>NaN</th>\n",
              "      <td>59.762950</td>\n",
              "      <td>408.02350</td>\n",
              "      <td>427.48750</td>\n",
              "      <td>419.60800</td>\n",
              "    </tr>\n",
              "  </tbody>\n",
              "</table>\n",
              "</div>"
            ],
            "text/plain": [
              "                internet_users_per_100       Math    Reading    Science\n",
              "Continent_Code                                                         \n",
              "AF                           43.359918  363.21210  355.45740  381.07425\n",
              "AS                           74.000000  459.81600  433.54230  456.48360\n",
              "EU                           76.184000  489.72870  487.25010  490.22500\n",
              "OC                           86.391704  494.55975  506.08565  511.64870\n",
              "SA                           64.289000  409.03330  425.30310  424.59050\n",
              "NaN                          59.762950  408.02350  427.48750  419.60800"
            ]
          },
          "metadata": {},
          "execution_count": 56
        }
      ]
    },
    {
      "cell_type": "code",
      "metadata": {
        "colab": {
          "base_uri": "https://localhost:8080/",
          "height": 265
        },
        "id": "kBgc1DAPbCCs",
        "outputId": "c6b1b77c-6d26-46b2-f6ec-c378b34bb2ff"
      },
      "source": [
        "df_mode = df.groupby([\"Continent_Code\"], dropna=False).agg(lambda x:x.value_counts().index[0])\n",
        "df_mode"
      ],
      "execution_count": 57,
      "outputs": [
        {
          "output_type": "execute_result",
          "data": {
            "text/html": [
              "<div>\n",
              "<style scoped>\n",
              "    .dataframe tbody tr th:only-of-type {\n",
              "        vertical-align: middle;\n",
              "    }\n",
              "\n",
              "    .dataframe tbody tr th {\n",
              "        vertical-align: top;\n",
              "    }\n",
              "\n",
              "    .dataframe thead th {\n",
              "        text-align: right;\n",
              "    }\n",
              "</style>\n",
              "<table border=\"1\" class=\"dataframe\">\n",
              "  <thead>\n",
              "    <tr style=\"text-align: right;\">\n",
              "      <th></th>\n",
              "      <th>Country Code</th>\n",
              "      <th>internet_users_per_100</th>\n",
              "      <th>Math</th>\n",
              "      <th>Reading</th>\n",
              "      <th>Science</th>\n",
              "    </tr>\n",
              "    <tr>\n",
              "      <th>Continent_Code</th>\n",
              "      <th></th>\n",
              "      <th></th>\n",
              "      <th></th>\n",
              "      <th></th>\n",
              "      <th></th>\n",
              "    </tr>\n",
              "  </thead>\n",
              "  <tbody>\n",
              "    <tr>\n",
              "      <th>AF</th>\n",
              "      <td>TUN</td>\n",
              "      <td>38.200000</td>\n",
              "      <td>366.8180</td>\n",
              "      <td>361.0555</td>\n",
              "      <td>375.7451</td>\n",
              "    </tr>\n",
              "    <tr>\n",
              "      <th>AS</th>\n",
              "      <td>KAZ</td>\n",
              "      <td>21.976068</td>\n",
              "      <td>446.1098</td>\n",
              "      <td>535.1002</td>\n",
              "      <td>524.6445</td>\n",
              "    </tr>\n",
              "    <tr>\n",
              "      <th>EU</th>\n",
              "      <td>LVA</td>\n",
              "      <td>71.378000</td>\n",
              "      <td>492.3254</td>\n",
              "      <td>416.2293</td>\n",
              "      <td>464.7819</td>\n",
              "    </tr>\n",
              "    <tr>\n",
              "      <th>OC</th>\n",
              "      <td>AUS</td>\n",
              "      <td>84.560519</td>\n",
              "      <td>495.2233</td>\n",
              "      <td>509.2707</td>\n",
              "      <td>513.3035</td>\n",
              "    </tr>\n",
              "    <tr>\n",
              "      <th>SA</th>\n",
              "      <td>TTO</td>\n",
              "      <td>40.900000</td>\n",
              "      <td>417.9919</td>\n",
              "      <td>407.3486</td>\n",
              "      <td>446.9561</td>\n",
              "    </tr>\n",
              "    <tr>\n",
              "      <th>NaN</th>\n",
              "      <td>DOM</td>\n",
              "      <td>59.762950</td>\n",
              "      <td>515.6474</td>\n",
              "      <td>423.2765</td>\n",
              "      <td>527.7047</td>\n",
              "    </tr>\n",
              "  </tbody>\n",
              "</table>\n",
              "</div>"
            ],
            "text/plain": [
              "               Country Code  internet_users_per_100  ...   Reading   Science\n",
              "Continent_Code                                       ...                    \n",
              "AF                      TUN               38.200000  ...  361.0555  375.7451\n",
              "AS                      KAZ               21.976068  ...  535.1002  524.6445\n",
              "EU                      LVA               71.378000  ...  416.2293  464.7819\n",
              "OC                      AUS               84.560519  ...  509.2707  513.3035\n",
              "SA                      TTO               40.900000  ...  407.3486  446.9561\n",
              "NaN                     DOM               59.762950  ...  423.2765  527.7047\n",
              "\n",
              "[6 rows x 5 columns]"
            ]
          },
          "metadata": {},
          "execution_count": 57
        }
      ]
    },
    {
      "cell_type": "code",
      "metadata": {
        "colab": {
          "base_uri": "https://localhost:8080/",
          "height": 265
        },
        "id": "JPBaGgLmnxrk",
        "outputId": "3ffc0175-2628-4a60-a8d1-a6a14f489811"
      },
      "source": [
        "df_std = df.groupby([\"Continent_Code\"], dropna=False).std()\n",
        "df_std"
      ],
      "execution_count": 58,
      "outputs": [
        {
          "output_type": "execute_result",
          "data": {
            "text/html": [
              "<div>\n",
              "<style scoped>\n",
              "    .dataframe tbody tr th:only-of-type {\n",
              "        vertical-align: middle;\n",
              "    }\n",
              "\n",
              "    .dataframe tbody tr th {\n",
              "        vertical-align: top;\n",
              "    }\n",
              "\n",
              "    .dataframe thead th {\n",
              "        text-align: right;\n",
              "    }\n",
              "</style>\n",
              "<table border=\"1\" class=\"dataframe\">\n",
              "  <thead>\n",
              "    <tr style=\"text-align: right;\">\n",
              "      <th></th>\n",
              "      <th>internet_users_per_100</th>\n",
              "      <th>Math</th>\n",
              "      <th>Reading</th>\n",
              "      <th>Science</th>\n",
              "    </tr>\n",
              "    <tr>\n",
              "      <th>Continent_Code</th>\n",
              "      <th></th>\n",
              "      <th></th>\n",
              "      <th></th>\n",
              "      <th></th>\n",
              "    </tr>\n",
              "  </thead>\n",
              "  <tbody>\n",
              "    <tr>\n",
              "      <th>AF</th>\n",
              "      <td>7.297226</td>\n",
              "      <td>5.099513</td>\n",
              "      <td>7.916909</td>\n",
              "      <td>7.536556</td>\n",
              "    </tr>\n",
              "    <tr>\n",
              "      <th>AS</th>\n",
              "      <td>21.086060</td>\n",
              "      <td>64.356490</td>\n",
              "      <td>57.048962</td>\n",
              "      <td>56.671371</td>\n",
              "    </tr>\n",
              "    <tr>\n",
              "      <th>EU</th>\n",
              "      <td>12.425773</td>\n",
              "      <td>35.150403</td>\n",
              "      <td>37.720545</td>\n",
              "      <td>34.450616</td>\n",
              "    </tr>\n",
              "    <tr>\n",
              "      <th>OC</th>\n",
              "      <td>2.589686</td>\n",
              "      <td>0.938401</td>\n",
              "      <td>4.504341</td>\n",
              "      <td>2.340241</td>\n",
              "    </tr>\n",
              "    <tr>\n",
              "      <th>SA</th>\n",
              "      <td>9.772455</td>\n",
              "      <td>18.128894</td>\n",
              "      <td>19.709688</td>\n",
              "      <td>18.470319</td>\n",
              "    </tr>\n",
              "    <tr>\n",
              "      <th>NaN</th>\n",
              "      <td>14.364359</td>\n",
              "      <td>71.717058</td>\n",
              "      <td>66.614744</td>\n",
              "      <td>76.789918</td>\n",
              "    </tr>\n",
              "  </tbody>\n",
              "</table>\n",
              "</div>"
            ],
            "text/plain": [
              "                internet_users_per_100       Math    Reading    Science\n",
              "Continent_Code                                                         \n",
              "AF                            7.297226   5.099513   7.916909   7.536556\n",
              "AS                           21.086060  64.356490  57.048962  56.671371\n",
              "EU                           12.425773  35.150403  37.720545  34.450616\n",
              "OC                            2.589686   0.938401   4.504341   2.340241\n",
              "SA                            9.772455  18.128894  19.709688  18.470319\n",
              "NaN                          14.364359  71.717058  66.614744  76.789918"
            ]
          },
          "metadata": {},
          "execution_count": 58
        }
      ]
    },
    {
      "cell_type": "code",
      "metadata": {
        "colab": {
          "base_uri": "https://localhost:8080/",
          "height": 265
        },
        "id": "9aUzLV6wn1Dl",
        "outputId": "5bf741f8-6599-4033-b6d1-9e49428fdbb3"
      },
      "source": [
        "df_variance = df.groupby([\"Continent_Code\"], dropna=False).var()\n",
        "df_variance"
      ],
      "execution_count": 59,
      "outputs": [
        {
          "output_type": "execute_result",
          "data": {
            "text/html": [
              "<div>\n",
              "<style scoped>\n",
              "    .dataframe tbody tr th:only-of-type {\n",
              "        vertical-align: middle;\n",
              "    }\n",
              "\n",
              "    .dataframe tbody tr th {\n",
              "        vertical-align: top;\n",
              "    }\n",
              "\n",
              "    .dataframe thead th {\n",
              "        text-align: right;\n",
              "    }\n",
              "</style>\n",
              "<table border=\"1\" class=\"dataframe\">\n",
              "  <thead>\n",
              "    <tr style=\"text-align: right;\">\n",
              "      <th></th>\n",
              "      <th>internet_users_per_100</th>\n",
              "      <th>Math</th>\n",
              "      <th>Reading</th>\n",
              "      <th>Science</th>\n",
              "    </tr>\n",
              "    <tr>\n",
              "      <th>Continent_Code</th>\n",
              "      <th></th>\n",
              "      <th></th>\n",
              "      <th></th>\n",
              "      <th></th>\n",
              "    </tr>\n",
              "  </thead>\n",
              "  <tbody>\n",
              "    <tr>\n",
              "      <th>AF</th>\n",
              "      <td>53.249507</td>\n",
              "      <td>26.005030</td>\n",
              "      <td>62.677447</td>\n",
              "      <td>56.799679</td>\n",
              "    </tr>\n",
              "    <tr>\n",
              "      <th>AS</th>\n",
              "      <td>444.621918</td>\n",
              "      <td>4141.757822</td>\n",
              "      <td>3254.584049</td>\n",
              "      <td>3211.644321</td>\n",
              "    </tr>\n",
              "    <tr>\n",
              "      <th>EU</th>\n",
              "      <td>154.399841</td>\n",
              "      <td>1235.550805</td>\n",
              "      <td>1422.839540</td>\n",
              "      <td>1186.844969</td>\n",
              "    </tr>\n",
              "    <tr>\n",
              "      <th>OC</th>\n",
              "      <td>6.706475</td>\n",
              "      <td>0.880597</td>\n",
              "      <td>20.289087</td>\n",
              "      <td>5.476726</td>\n",
              "    </tr>\n",
              "    <tr>\n",
              "      <th>SA</th>\n",
              "      <td>95.500869</td>\n",
              "      <td>328.656783</td>\n",
              "      <td>388.471816</td>\n",
              "      <td>341.152678</td>\n",
              "    </tr>\n",
              "    <tr>\n",
              "      <th>NaN</th>\n",
              "      <td>206.334814</td>\n",
              "      <td>5143.336351</td>\n",
              "      <td>4437.524053</td>\n",
              "      <td>5896.691519</td>\n",
              "    </tr>\n",
              "  </tbody>\n",
              "</table>\n",
              "</div>"
            ],
            "text/plain": [
              "                internet_users_per_100         Math      Reading      Science\n",
              "Continent_Code                                                               \n",
              "AF                           53.249507    26.005030    62.677447    56.799679\n",
              "AS                          444.621918  4141.757822  3254.584049  3211.644321\n",
              "EU                          154.399841  1235.550805  1422.839540  1186.844969\n",
              "OC                            6.706475     0.880597    20.289087     5.476726\n",
              "SA                           95.500869   328.656783   388.471816   341.152678\n",
              "NaN                         206.334814  5143.336351  4437.524053  5896.691519"
            ]
          },
          "metadata": {},
          "execution_count": 59
        }
      ]
    },
    {
      "cell_type": "code",
      "metadata": {
        "colab": {
          "base_uri": "https://localhost:8080/",
          "height": 265
        },
        "id": "rgfohoKgoZ2k",
        "outputId": "0480ff16-576a-48c6-c52c-13f4eeccfb73"
      },
      "source": [
        "Q1 = df.groupby([\"Continent_Code\"], dropna=False).quantile([0.25])\n",
        "Q1"
      ],
      "execution_count": 14,
      "outputs": [
        {
          "output_type": "execute_result",
          "data": {
            "text/html": [
              "<div>\n",
              "<style scoped>\n",
              "    .dataframe tbody tr th:only-of-type {\n",
              "        vertical-align: middle;\n",
              "    }\n",
              "\n",
              "    .dataframe tbody tr th {\n",
              "        vertical-align: top;\n",
              "    }\n",
              "\n",
              "    .dataframe thead th {\n",
              "        text-align: right;\n",
              "    }\n",
              "</style>\n",
              "<table border=\"1\" class=\"dataframe\">\n",
              "  <thead>\n",
              "    <tr style=\"text-align: right;\">\n",
              "      <th></th>\n",
              "      <th></th>\n",
              "      <th>internet_users_per_100</th>\n",
              "      <th>Math</th>\n",
              "      <th>Reading</th>\n",
              "      <th>Science</th>\n",
              "    </tr>\n",
              "    <tr>\n",
              "      <th>Continent_Code</th>\n",
              "      <th></th>\n",
              "      <th></th>\n",
              "      <th></th>\n",
              "      <th></th>\n",
              "      <th></th>\n",
              "    </tr>\n",
              "  </thead>\n",
              "  <tbody>\n",
              "    <tr>\n",
              "      <th>AF</th>\n",
              "      <th>0.25</th>\n",
              "      <td>40.779959</td>\n",
              "      <td>361.409150</td>\n",
              "      <td>352.658350</td>\n",
              "      <td>378.409675</td>\n",
              "    </tr>\n",
              "    <tr>\n",
              "      <th>AS</th>\n",
              "      <th>0.25</th>\n",
              "      <td>50.300000</td>\n",
              "      <td>403.833200</td>\n",
              "      <td>408.102200</td>\n",
              "      <td>417.611200</td>\n",
              "    </tr>\n",
              "    <tr>\n",
              "      <th>EU</th>\n",
              "      <th>0.25</th>\n",
              "      <td>68.632900</td>\n",
              "      <td>464.040100</td>\n",
              "      <td>452.514300</td>\n",
              "      <td>460.774900</td>\n",
              "    </tr>\n",
              "    <tr>\n",
              "      <th>OC</th>\n",
              "      <th>0.25</th>\n",
              "      <td>85.476112</td>\n",
              "      <td>494.227975</td>\n",
              "      <td>504.493125</td>\n",
              "      <td>510.821300</td>\n",
              "    </tr>\n",
              "    <tr>\n",
              "      <th>SA</th>\n",
              "      <th>0.25</th>\n",
              "      <td>57.116462</td>\n",
              "      <td>388.102200</td>\n",
              "      <td>416.126900</td>\n",
              "      <td>408.205450</td>\n",
              "    </tr>\n",
              "    <tr>\n",
              "      <th>NaN</th>\n",
              "      <th>0.25</th>\n",
              "      <td>57.431043</td>\n",
              "      <td>400.253400</td>\n",
              "      <td>423.276500</td>\n",
              "      <td>415.709900</td>\n",
              "    </tr>\n",
              "  </tbody>\n",
              "</table>\n",
              "</div>"
            ],
            "text/plain": [
              "                     internet_users_per_100        Math     Reading     Science\n",
              "Continent_Code                                                                 \n",
              "AF             0.25               40.779959  361.409150  352.658350  378.409675\n",
              "AS             0.25               50.300000  403.833200  408.102200  417.611200\n",
              "EU             0.25               68.632900  464.040100  452.514300  460.774900\n",
              "OC             0.25               85.476112  494.227975  504.493125  510.821300\n",
              "SA             0.25               57.116462  388.102200  416.126900  408.205450\n",
              "NaN            0.25               57.431043  400.253400  423.276500  415.709900"
            ]
          },
          "metadata": {},
          "execution_count": 14
        }
      ]
    },
    {
      "cell_type": "code",
      "metadata": {
        "colab": {
          "base_uri": "https://localhost:8080/",
          "height": 265
        },
        "id": "uQDuDuB8q9mX",
        "outputId": "c3cdf89a-cbf7-429f-ba9a-db5be57cb45c"
      },
      "source": [
        "Q3 = df.groupby([\"Continent_Code\"], dropna=False).quantile([0.75])\n",
        "Q3"
      ],
      "execution_count": 15,
      "outputs": [
        {
          "output_type": "execute_result",
          "data": {
            "text/html": [
              "<div>\n",
              "<style scoped>\n",
              "    .dataframe tbody tr th:only-of-type {\n",
              "        vertical-align: middle;\n",
              "    }\n",
              "\n",
              "    .dataframe tbody tr th {\n",
              "        vertical-align: top;\n",
              "    }\n",
              "\n",
              "    .dataframe thead th {\n",
              "        text-align: right;\n",
              "    }\n",
              "</style>\n",
              "<table border=\"1\" class=\"dataframe\">\n",
              "  <thead>\n",
              "    <tr style=\"text-align: right;\">\n",
              "      <th></th>\n",
              "      <th></th>\n",
              "      <th>internet_users_per_100</th>\n",
              "      <th>Math</th>\n",
              "      <th>Reading</th>\n",
              "      <th>Science</th>\n",
              "    </tr>\n",
              "    <tr>\n",
              "      <th>Continent_Code</th>\n",
              "      <th></th>\n",
              "      <th></th>\n",
              "      <th></th>\n",
              "      <th></th>\n",
              "      <th></th>\n",
              "    </tr>\n",
              "  </thead>\n",
              "  <tbody>\n",
              "    <tr>\n",
              "      <th>AF</th>\n",
              "      <th>0.75</th>\n",
              "      <td>45.939877</td>\n",
              "      <td>365.015050</td>\n",
              "      <td>358.256450</td>\n",
              "      <td>383.738825</td>\n",
              "    </tr>\n",
              "    <tr>\n",
              "      <th>AS</th>\n",
              "      <th>0.75</th>\n",
              "      <td>84.948353</td>\n",
              "      <td>531.296100</td>\n",
              "      <td>508.690500</td>\n",
              "      <td>523.277400</td>\n",
              "    </tr>\n",
              "    <tr>\n",
              "      <th>EU</th>\n",
              "      <th>0.75</th>\n",
              "      <td>87.479056</td>\n",
              "      <td>503.722000</td>\n",
              "      <td>499.814600</td>\n",
              "      <td>501.936900</td>\n",
              "    </tr>\n",
              "    <tr>\n",
              "      <th>OC</th>\n",
              "      <th>0.75</th>\n",
              "      <td>87.307296</td>\n",
              "      <td>494.891525</td>\n",
              "      <td>507.678175</td>\n",
              "      <td>512.476100</td>\n",
              "    </tr>\n",
              "    <tr>\n",
              "      <th>SA</th>\n",
              "      <th>0.75</th>\n",
              "      <td>66.321532</td>\n",
              "      <td>417.617650</td>\n",
              "      <td>431.922700</td>\n",
              "      <td>433.794600</td>\n",
              "    </tr>\n",
              "    <tr>\n",
              "      <th>NaN</th>\n",
              "      <th>0.75</th>\n",
              "      <td>74.554202</td>\n",
              "      <td>469.628500</td>\n",
              "      <td>496.935100</td>\n",
              "      <td>496.242400</td>\n",
              "    </tr>\n",
              "  </tbody>\n",
              "</table>\n",
              "</div>"
            ],
            "text/plain": [
              "                     internet_users_per_100        Math     Reading     Science\n",
              "Continent_Code                                                                 \n",
              "AF             0.75               45.939877  365.015050  358.256450  383.738825\n",
              "AS             0.75               84.948353  531.296100  508.690500  523.277400\n",
              "EU             0.75               87.479056  503.722000  499.814600  501.936900\n",
              "OC             0.75               87.307296  494.891525  507.678175  512.476100\n",
              "SA             0.75               66.321532  417.617650  431.922700  433.794600\n",
              "NaN            0.75               74.554202  469.628500  496.935100  496.242400"
            ]
          },
          "metadata": {},
          "execution_count": 15
        }
      ]
    },
    {
      "cell_type": "code",
      "metadata": {
        "colab": {
          "base_uri": "https://localhost:8080/",
          "height": 265
        },
        "id": "NEoK6eqE8p4y",
        "outputId": "74476a5d-ef3e-4924-eefb-b30b9b15f132"
      },
      "source": [
        "grouper = df.groupby(\"Continent_Code\", dropna=False)\n",
        "iqr = grouper.quantile([0.75, 0.25]).groupby(\"Continent_Code\").agg(np.subtract.reduce)\n",
        "iqr"
      ],
      "execution_count": 16,
      "outputs": [
        {
          "output_type": "execute_result",
          "data": {
            "text/html": [
              "<div>\n",
              "<style scoped>\n",
              "    .dataframe tbody tr th:only-of-type {\n",
              "        vertical-align: middle;\n",
              "    }\n",
              "\n",
              "    .dataframe tbody tr th {\n",
              "        vertical-align: top;\n",
              "    }\n",
              "\n",
              "    .dataframe thead th {\n",
              "        text-align: right;\n",
              "    }\n",
              "</style>\n",
              "<table border=\"1\" class=\"dataframe\">\n",
              "  <thead>\n",
              "    <tr style=\"text-align: right;\">\n",
              "      <th></th>\n",
              "      <th>internet_users_per_100</th>\n",
              "      <th>Math</th>\n",
              "      <th>Reading</th>\n",
              "      <th>Science</th>\n",
              "    </tr>\n",
              "    <tr>\n",
              "      <th>Continent_Code</th>\n",
              "      <th></th>\n",
              "      <th></th>\n",
              "      <th></th>\n",
              "      <th></th>\n",
              "    </tr>\n",
              "  </thead>\n",
              "  <tbody>\n",
              "    <tr>\n",
              "      <th>AF</th>\n",
              "      <td>5.159918</td>\n",
              "      <td>3.60590</td>\n",
              "      <td>5.59810</td>\n",
              "      <td>5.32915</td>\n",
              "    </tr>\n",
              "    <tr>\n",
              "      <th>AS</th>\n",
              "      <td>34.648353</td>\n",
              "      <td>127.46290</td>\n",
              "      <td>100.58830</td>\n",
              "      <td>105.66620</td>\n",
              "    </tr>\n",
              "    <tr>\n",
              "      <th>EU</th>\n",
              "      <td>18.846156</td>\n",
              "      <td>39.68190</td>\n",
              "      <td>47.30030</td>\n",
              "      <td>41.16200</td>\n",
              "    </tr>\n",
              "    <tr>\n",
              "      <th>OC</th>\n",
              "      <td>1.831185</td>\n",
              "      <td>0.66355</td>\n",
              "      <td>3.18505</td>\n",
              "      <td>1.65480</td>\n",
              "    </tr>\n",
              "    <tr>\n",
              "      <th>SA</th>\n",
              "      <td>9.205070</td>\n",
              "      <td>29.51545</td>\n",
              "      <td>15.79580</td>\n",
              "      <td>25.58915</td>\n",
              "    </tr>\n",
              "    <tr>\n",
              "      <th>NaN</th>\n",
              "      <td>17.123159</td>\n",
              "      <td>69.37510</td>\n",
              "      <td>73.65860</td>\n",
              "      <td>80.53250</td>\n",
              "    </tr>\n",
              "  </tbody>\n",
              "</table>\n",
              "</div>"
            ],
            "text/plain": [
              "                internet_users_per_100       Math    Reading    Science\n",
              "Continent_Code                                                         \n",
              "AF                            5.159918    3.60590    5.59810    5.32915\n",
              "AS                           34.648353  127.46290  100.58830  105.66620\n",
              "EU                           18.846156   39.68190   47.30030   41.16200\n",
              "OC                            1.831185    0.66355    3.18505    1.65480\n",
              "SA                            9.205070   29.51545   15.79580   25.58915\n",
              "NaN                          17.123159   69.37510   73.65860   80.53250"
            ]
          },
          "metadata": {},
          "execution_count": 16
        }
      ]
    },
    {
      "cell_type": "code",
      "metadata": {
        "colab": {
          "base_uri": "https://localhost:8080/",
          "height": 265
        },
        "id": "kFQhULv1FObD",
        "outputId": "20a256c2-0324-4f4a-bd01-1c1858a1efa2"
      },
      "source": [
        "df.groupby(\"Continent_Code\", dropna=False).count()"
      ],
      "execution_count": 17,
      "outputs": [
        {
          "output_type": "execute_result",
          "data": {
            "text/html": [
              "<div>\n",
              "<style scoped>\n",
              "    .dataframe tbody tr th:only-of-type {\n",
              "        vertical-align: middle;\n",
              "    }\n",
              "\n",
              "    .dataframe tbody tr th {\n",
              "        vertical-align: top;\n",
              "    }\n",
              "\n",
              "    .dataframe thead th {\n",
              "        text-align: right;\n",
              "    }\n",
              "</style>\n",
              "<table border=\"1\" class=\"dataframe\">\n",
              "  <thead>\n",
              "    <tr style=\"text-align: right;\">\n",
              "      <th></th>\n",
              "      <th>Country Code</th>\n",
              "      <th>internet_users_per_100</th>\n",
              "      <th>Math</th>\n",
              "      <th>Reading</th>\n",
              "      <th>Science</th>\n",
              "    </tr>\n",
              "    <tr>\n",
              "      <th>Continent_Code</th>\n",
              "      <th></th>\n",
              "      <th></th>\n",
              "      <th></th>\n",
              "      <th></th>\n",
              "      <th></th>\n",
              "    </tr>\n",
              "  </thead>\n",
              "  <tbody>\n",
              "    <tr>\n",
              "      <th>AF</th>\n",
              "      <td>2</td>\n",
              "      <td>2</td>\n",
              "      <td>2</td>\n",
              "      <td>2</td>\n",
              "      <td>2</td>\n",
              "    </tr>\n",
              "    <tr>\n",
              "      <th>AS</th>\n",
              "      <td>17</td>\n",
              "      <td>17</td>\n",
              "      <td>17</td>\n",
              "      <td>17</td>\n",
              "      <td>17</td>\n",
              "    </tr>\n",
              "    <tr>\n",
              "      <th>EU</th>\n",
              "      <td>37</td>\n",
              "      <td>37</td>\n",
              "      <td>37</td>\n",
              "      <td>37</td>\n",
              "      <td>37</td>\n",
              "    </tr>\n",
              "    <tr>\n",
              "      <th>OC</th>\n",
              "      <td>2</td>\n",
              "      <td>2</td>\n",
              "      <td>2</td>\n",
              "      <td>2</td>\n",
              "      <td>2</td>\n",
              "    </tr>\n",
              "    <tr>\n",
              "      <th>SA</th>\n",
              "      <td>7</td>\n",
              "      <td>7</td>\n",
              "      <td>7</td>\n",
              "      <td>7</td>\n",
              "      <td>7</td>\n",
              "    </tr>\n",
              "    <tr>\n",
              "      <th>NaN</th>\n",
              "      <td>5</td>\n",
              "      <td>5</td>\n",
              "      <td>5</td>\n",
              "      <td>5</td>\n",
              "      <td>5</td>\n",
              "    </tr>\n",
              "  </tbody>\n",
              "</table>\n",
              "</div>"
            ],
            "text/plain": [
              "                Country Code  internet_users_per_100  Math  Reading  Science\n",
              "Continent_Code                                                              \n",
              "AF                         2                       2     2        2        2\n",
              "AS                        17                      17    17       17       17\n",
              "EU                        37                      37    37       37       37\n",
              "OC                         2                       2     2        2        2\n",
              "SA                         7                       7     7        7        7\n",
              "NaN                        5                       5     5        5        5"
            ]
          },
          "metadata": {},
          "execution_count": 17
        }
      ]
    },
    {
      "cell_type": "markdown",
      "metadata": {
        "id": "TLt36axoeQ7c"
      },
      "source": [
        "2. Determine whether there is any difference (on the average) for the math scores among European (EU) and Asian (AS) countries (assume normality and equal variances). Draw side-by-side box plots."
      ]
    },
    {
      "cell_type": "code",
      "metadata": {
        "id": "_jPSt1AtSO5D"
      },
      "source": [
        "import seaborn as sns"
      ],
      "execution_count": 98,
      "outputs": []
    },
    {
      "cell_type": "code",
      "metadata": {
        "colab": {
          "base_uri": "https://localhost:8080/",
          "height": 447
        },
        "id": "RCuCmvBxyzft",
        "outputId": "49487d9c-f7c3-4f89-d7de-ddac7693f835"
      },
      "source": [
        "avg_math = df.groupby([\"Continent_Code\", \"Country Code\"])[[\"Math\"]].mean()\n",
        "avg_math"
      ],
      "execution_count": 102,
      "outputs": [
        {
          "output_type": "execute_result",
          "data": {
            "text/html": [
              "<div>\n",
              "<style scoped>\n",
              "    .dataframe tbody tr th:only-of-type {\n",
              "        vertical-align: middle;\n",
              "    }\n",
              "\n",
              "    .dataframe tbody tr th {\n",
              "        vertical-align: top;\n",
              "    }\n",
              "\n",
              "    .dataframe thead th {\n",
              "        text-align: right;\n",
              "    }\n",
              "</style>\n",
              "<table border=\"1\" class=\"dataframe\">\n",
              "  <thead>\n",
              "    <tr style=\"text-align: right;\">\n",
              "      <th></th>\n",
              "      <th></th>\n",
              "      <th>Math</th>\n",
              "    </tr>\n",
              "    <tr>\n",
              "      <th>Continent_Code</th>\n",
              "      <th>Country Code</th>\n",
              "      <th></th>\n",
              "    </tr>\n",
              "  </thead>\n",
              "  <tbody>\n",
              "    <tr>\n",
              "      <th rowspan=\"2\" valign=\"top\">AF</th>\n",
              "      <th>DZA</th>\n",
              "      <td>359.6062</td>\n",
              "    </tr>\n",
              "    <tr>\n",
              "      <th>TUN</th>\n",
              "      <td>366.8180</td>\n",
              "    </tr>\n",
              "    <tr>\n",
              "      <th rowspan=\"3\" valign=\"top\">AS</th>\n",
              "      <th>ARE</th>\n",
              "      <td>427.4827</td>\n",
              "    </tr>\n",
              "    <tr>\n",
              "      <th>CHN</th>\n",
              "      <td>531.2961</td>\n",
              "    </tr>\n",
              "    <tr>\n",
              "      <th>GEO</th>\n",
              "      <td>403.8332</td>\n",
              "    </tr>\n",
              "    <tr>\n",
              "      <th>...</th>\n",
              "      <th>...</th>\n",
              "      <td>...</td>\n",
              "    </tr>\n",
              "    <tr>\n",
              "      <th rowspan=\"5\" valign=\"top\">SA</th>\n",
              "      <th>CHL</th>\n",
              "      <td>422.6714</td>\n",
              "    </tr>\n",
              "    <tr>\n",
              "      <th>COL</th>\n",
              "      <td>389.6438</td>\n",
              "    </tr>\n",
              "    <tr>\n",
              "      <th>PER</th>\n",
              "      <td>386.5606</td>\n",
              "    </tr>\n",
              "    <tr>\n",
              "      <th>TTO</th>\n",
              "      <td>417.2434</td>\n",
              "    </tr>\n",
              "    <tr>\n",
              "      <th>URY</th>\n",
              "      <td>417.9919</td>\n",
              "    </tr>\n",
              "  </tbody>\n",
              "</table>\n",
              "<p>65 rows × 1 columns</p>\n",
              "</div>"
            ],
            "text/plain": [
              "                                 Math\n",
              "Continent_Code Country Code          \n",
              "AF             DZA           359.6062\n",
              "               TUN           366.8180\n",
              "AS             ARE           427.4827\n",
              "               CHN           531.2961\n",
              "               GEO           403.8332\n",
              "...                               ...\n",
              "SA             CHL           422.6714\n",
              "               COL           389.6438\n",
              "               PER           386.5606\n",
              "               TTO           417.2434\n",
              "               URY           417.9919\n",
              "\n",
              "[65 rows x 1 columns]"
            ]
          },
          "metadata": {},
          "execution_count": 102
        }
      ]
    },
    {
      "cell_type": "code",
      "metadata": {
        "colab": {
          "base_uri": "https://localhost:8080/"
        },
        "id": "_bTuGPtb2cQ7",
        "outputId": "a7b8c475-28d1-4546-a1b5-a95638c78080"
      },
      "source": [
        "avg_math.loc[\"AS\"].mean()"
      ],
      "execution_count": 273,
      "outputs": [
        {
          "output_type": "execute_result",
          "data": {
            "text/plain": [
              "Math    466.216647\n",
              "dtype: float64"
            ]
          },
          "metadata": {},
          "execution_count": 273
        }
      ]
    },
    {
      "cell_type": "code",
      "metadata": {
        "colab": {
          "base_uri": "https://localhost:8080/"
        },
        "id": "c7n9XSPs4HSm",
        "outputId": "e24f4297-1ede-4733-cc93-f99fa2219176"
      },
      "source": [
        "avg_math.loc[\"EU\"].mean()"
      ],
      "execution_count": 274,
      "outputs": [
        {
          "output_type": "execute_result",
          "data": {
            "text/plain": [
              "Math    477.981449\n",
              "dtype: float64"
            ]
          },
          "metadata": {},
          "execution_count": 274
        }
      ]
    },
    {
      "cell_type": "code",
      "metadata": {
        "colab": {
          "base_uri": "https://localhost:8080/"
        },
        "id": "XRgGkGTY4PXF",
        "outputId": "65b8d0d7-d3d0-4a2f-d5a0-c057bbeb2231"
      },
      "source": [
        "stats.ttest_ind(avg_math.loc[\"EU\"], avg_math.loc[\"AS\"])"
      ],
      "execution_count": 275,
      "outputs": [
        {
          "output_type": "execute_result",
          "data": {
            "text/plain": [
              "Ttest_indResult(statistic=array([0.87005532]), pvalue=array([0.38826888]))"
            ]
          },
          "metadata": {},
          "execution_count": 275
        }
      ]
    },
    {
      "cell_type": "markdown",
      "metadata": {
        "id": "GU9z63I-wLP7"
      },
      "source": [
        "The low t value indicates that there is no significant difference between European and Asian countries for mean mathematics scores."
      ]
    },
    {
      "cell_type": "markdown",
      "metadata": {
        "id": "TbapHy-KO_6u"
      },
      "source": [
        "# EXERCISE 4. The sample dataset has placement test scores (out of 100 points) for four subject areas: English, Reading, Math, and Writing. Students in the sample completed all 4 placement tests when they enrolled in the university. Suppose we are particularly interested in the English and Math sections, and want to determine whether students tended to score higher on their English or Math test, on average. We could use a paired t test to test if there was a significant difference in the average of the two tests."
      ]
    },
    {
      "cell_type": "code",
      "metadata": {
        "colab": {
          "base_uri": "https://localhost:8080/",
          "height": 290
        },
        "id": "tCGHnBJooRVL",
        "outputId": "79006cdb-6c03-4db1-9ee0-990f83423299"
      },
      "source": [
        "grade = pd.read_csv(\"/content/students_2014 - students_2014.csv\")\n",
        "grade.head()"
      ],
      "execution_count": 30,
      "outputs": [
        {
          "output_type": "execute_result",
          "data": {
            "text/html": [
              "<div>\n",
              "<style scoped>\n",
              "    .dataframe tbody tr th:only-of-type {\n",
              "        vertical-align: middle;\n",
              "    }\n",
              "\n",
              "    .dataframe tbody tr th {\n",
              "        vertical-align: top;\n",
              "    }\n",
              "\n",
              "    .dataframe thead th {\n",
              "        text-align: right;\n",
              "    }\n",
              "</style>\n",
              "<table border=\"1\" class=\"dataframe\">\n",
              "  <thead>\n",
              "    <tr style=\"text-align: right;\">\n",
              "      <th></th>\n",
              "      <th>ids</th>\n",
              "      <th>bday</th>\n",
              "      <th>enrolldate</th>\n",
              "      <th>expgradate</th>\n",
              "      <th>Rank</th>\n",
              "      <th>Major</th>\n",
              "      <th>Gender</th>\n",
              "      <th>Athlete</th>\n",
              "      <th>Height</th>\n",
              "      <th>Weight</th>\n",
              "      <th>Smoking</th>\n",
              "      <th>Sprint</th>\n",
              "      <th>MileMinDur</th>\n",
              "      <th>English</th>\n",
              "      <th>Reading</th>\n",
              "      <th>Math</th>\n",
              "      <th>Writing</th>\n",
              "      <th>State</th>\n",
              "      <th>LiveOnCampus</th>\n",
              "      <th>HowCommute</th>\n",
              "      <th>CommuteTime</th>\n",
              "      <th>SleepTime</th>\n",
              "      <th>StudyTime</th>\n",
              "    </tr>\n",
              "  </thead>\n",
              "  <tbody>\n",
              "    <tr>\n",
              "      <th>0</th>\n",
              "      <td>43783</td>\n",
              "      <td>3/22/1995</td>\n",
              "      <td>NaN</td>\n",
              "      <td>NaN</td>\n",
              "      <td>NaN</td>\n",
              "      <td>NaN</td>\n",
              "      <td>0.0</td>\n",
              "      <td>0</td>\n",
              "      <td>72.35</td>\n",
              "      <td>NaN</td>\n",
              "      <td>0.0</td>\n",
              "      <td>7.978</td>\n",
              "      <td>NaN</td>\n",
              "      <td>88.24</td>\n",
              "      <td>81.50</td>\n",
              "      <td>60.02</td>\n",
              "      <td>81.44</td>\n",
              "      <td>In state</td>\n",
              "      <td>1.0</td>\n",
              "      <td>NaN</td>\n",
              "      <td>NaN</td>\n",
              "      <td>7.0</td>\n",
              "      <td>1.0</td>\n",
              "    </tr>\n",
              "    <tr>\n",
              "      <th>1</th>\n",
              "      <td>20278</td>\n",
              "      <td>1/1/1995</td>\n",
              "      <td>NaN</td>\n",
              "      <td>NaN</td>\n",
              "      <td>NaN</td>\n",
              "      <td>Philosophy</td>\n",
              "      <td>0.0</td>\n",
              "      <td>0</td>\n",
              "      <td>70.66</td>\n",
              "      <td>179.20</td>\n",
              "      <td>0.0</td>\n",
              "      <td>8.004</td>\n",
              "      <td>0:06:21</td>\n",
              "      <td>89.45</td>\n",
              "      <td>85.25</td>\n",
              "      <td>70.19</td>\n",
              "      <td>73.27</td>\n",
              "      <td>NaN</td>\n",
              "      <td>1.0</td>\n",
              "      <td>NaN</td>\n",
              "      <td>NaN</td>\n",
              "      <td>5.0</td>\n",
              "      <td>2.0</td>\n",
              "    </tr>\n",
              "    <tr>\n",
              "      <th>2</th>\n",
              "      <td>20389</td>\n",
              "      <td>12/31/1994</td>\n",
              "      <td>NaN</td>\n",
              "      <td>NaN</td>\n",
              "      <td>NaN</td>\n",
              "      <td>NaN</td>\n",
              "      <td>0.0</td>\n",
              "      <td>0</td>\n",
              "      <td>70.68</td>\n",
              "      <td>198.52</td>\n",
              "      <td>0.0</td>\n",
              "      <td>NaN</td>\n",
              "      <td>0:07:00</td>\n",
              "      <td>96.73</td>\n",
              "      <td>86.88</td>\n",
              "      <td>71.20</td>\n",
              "      <td>84.24</td>\n",
              "      <td>In state</td>\n",
              "      <td>NaN</td>\n",
              "      <td>NaN</td>\n",
              "      <td>NaN</td>\n",
              "      <td>8.0</td>\n",
              "      <td>7.0</td>\n",
              "    </tr>\n",
              "    <tr>\n",
              "      <th>3</th>\n",
              "      <td>22820</td>\n",
              "      <td>12/1/1994</td>\n",
              "      <td>NaN</td>\n",
              "      <td>NaN</td>\n",
              "      <td>NaN</td>\n",
              "      <td>business administration</td>\n",
              "      <td>1.0</td>\n",
              "      <td>0</td>\n",
              "      <td>NaN</td>\n",
              "      <td>198.34</td>\n",
              "      <td>NaN</td>\n",
              "      <td>8.473</td>\n",
              "      <td>0:12:44</td>\n",
              "      <td>74.06</td>\n",
              "      <td>88.68</td>\n",
              "      <td>55.89</td>\n",
              "      <td>73.16</td>\n",
              "      <td>In state</td>\n",
              "      <td>1.0</td>\n",
              "      <td>NaN</td>\n",
              "      <td>NaN</td>\n",
              "      <td>2.0</td>\n",
              "      <td>6.0</td>\n",
              "    </tr>\n",
              "    <tr>\n",
              "      <th>4</th>\n",
              "      <td>24559</td>\n",
              "      <td>11/10/1994</td>\n",
              "      <td>NaN</td>\n",
              "      <td>NaN</td>\n",
              "      <td>NaN</td>\n",
              "      <td>NaN</td>\n",
              "      <td>1.0</td>\n",
              "      <td>1</td>\n",
              "      <td>67.43</td>\n",
              "      <td>128.17</td>\n",
              "      <td>2.0</td>\n",
              "      <td>NaN</td>\n",
              "      <td>0:06:25</td>\n",
              "      <td>82.61</td>\n",
              "      <td>77.30</td>\n",
              "      <td>65.52</td>\n",
              "      <td>80.45</td>\n",
              "      <td>Out of state</td>\n",
              "      <td>1.0</td>\n",
              "      <td>NaN</td>\n",
              "      <td>NaN</td>\n",
              "      <td>7.0</td>\n",
              "      <td>3.0</td>\n",
              "    </tr>\n",
              "  </tbody>\n",
              "</table>\n",
              "</div>"
            ],
            "text/plain": [
              "     ids        bday enrolldate  ... CommuteTime  SleepTime StudyTime\n",
              "0  43783   3/22/1995        NaN  ...         NaN        7.0       1.0\n",
              "1  20278    1/1/1995        NaN  ...         NaN        5.0       2.0\n",
              "2  20389  12/31/1994        NaN  ...         NaN        8.0       7.0\n",
              "3  22820   12/1/1994        NaN  ...         NaN        2.0       6.0\n",
              "4  24559  11/10/1994        NaN  ...         NaN        7.0       3.0\n",
              "\n",
              "[5 rows x 23 columns]"
            ]
          },
          "metadata": {},
          "execution_count": 30
        }
      ]
    },
    {
      "cell_type": "code",
      "metadata": {
        "id": "jllYDoyJ1iGN"
      },
      "source": [
        "grade_non_null = grade.loc[:, [\"English\", \"Math\"]].dropna()"
      ],
      "execution_count": 39,
      "outputs": []
    },
    {
      "cell_type": "code",
      "metadata": {
        "colab": {
          "base_uri": "https://localhost:8080/"
        },
        "id": "cWyv2wRbuQEo",
        "outputId": "1420f8f9-7088-4def-abea-18b17d110efd"
      },
      "source": [
        "grade_non_null.shape"
      ],
      "execution_count": 40,
      "outputs": [
        {
          "output_type": "execute_result",
          "data": {
            "text/plain": [
              "(398, 2)"
            ]
          },
          "metadata": {},
          "execution_count": 40
        }
      ]
    },
    {
      "cell_type": "code",
      "metadata": {
        "colab": {
          "base_uri": "https://localhost:8080/",
          "height": 110
        },
        "id": "e98c9VYDwXee",
        "outputId": "6de41f89-561d-41da-ad1f-55cf1446c695"
      },
      "source": [
        "grade_non_null[[\"English\", \"Math\"]].corr()"
      ],
      "execution_count": 49,
      "outputs": [
        {
          "output_type": "execute_result",
          "data": {
            "text/html": [
              "<div>\n",
              "<style scoped>\n",
              "    .dataframe tbody tr th:only-of-type {\n",
              "        vertical-align: middle;\n",
              "    }\n",
              "\n",
              "    .dataframe tbody tr th {\n",
              "        vertical-align: top;\n",
              "    }\n",
              "\n",
              "    .dataframe thead th {\n",
              "        text-align: right;\n",
              "    }\n",
              "</style>\n",
              "<table border=\"1\" class=\"dataframe\">\n",
              "  <thead>\n",
              "    <tr style=\"text-align: right;\">\n",
              "      <th></th>\n",
              "      <th>English</th>\n",
              "      <th>Math</th>\n",
              "    </tr>\n",
              "  </thead>\n",
              "  <tbody>\n",
              "    <tr>\n",
              "      <th>English</th>\n",
              "      <td>1.000000</td>\n",
              "      <td>0.243014</td>\n",
              "    </tr>\n",
              "    <tr>\n",
              "      <th>Math</th>\n",
              "      <td>0.243014</td>\n",
              "      <td>1.000000</td>\n",
              "    </tr>\n",
              "  </tbody>\n",
              "</table>\n",
              "</div>"
            ],
            "text/plain": [
              "          English      Math\n",
              "English  1.000000  0.243014\n",
              "Math     0.243014  1.000000"
            ]
          },
          "metadata": {},
          "execution_count": 49
        }
      ]
    },
    {
      "cell_type": "code",
      "metadata": {
        "colab": {
          "base_uri": "https://localhost:8080/"
        },
        "id": "JG5tFOb9wfns",
        "outputId": "75872775-85f7-4775-e097-d421d47284d1"
      },
      "source": [
        "stats.ttest_rel(grade_non_null[\"English\"], grade_non_null[\"Math\"])"
      ],
      "execution_count": 51,
      "outputs": [
        {
          "output_type": "execute_result",
          "data": {
            "text/plain": [
              "Ttest_relResult(statistic=36.312568981719856, pvalue=3.0710987192210606e-128)"
            ]
          },
          "metadata": {},
          "execution_count": 51
        }
      ]
    },
    {
      "cell_type": "code",
      "metadata": {
        "colab": {
          "base_uri": "https://localhost:8080/"
        },
        "id": "2ZaGomrHcbmk",
        "outputId": "e5187a30-0b75-4f6e-9612-46cb50590961"
      },
      "source": [
        "grade_non_null.mean()"
      ],
      "execution_count": 52,
      "outputs": [
        {
          "output_type": "execute_result",
          "data": {
            "text/plain": [
              "English    82.744095\n",
              "Math       65.446834\n",
              "dtype: float64"
            ]
          },
          "metadata": {},
          "execution_count": 52
        }
      ]
    },
    {
      "cell_type": "code",
      "metadata": {
        "colab": {
          "base_uri": "https://localhost:8080/"
        },
        "id": "WCEYowR2CYmv",
        "outputId": "8d08d258-d3e0-47fe-9216-ecad8279f1b0"
      },
      "source": [
        "grade_non_null[\"English\"].mean() - grade_non_null[\"Math\"].mean()"
      ],
      "execution_count": 53,
      "outputs": [
        {
          "output_type": "execute_result",
          "data": {
            "text/plain": [
              "17.297261306532633"
            ]
          },
          "metadata": {},
          "execution_count": 53
        }
      ]
    },
    {
      "cell_type": "markdown",
      "metadata": {
        "id": "_tU311ukD2Yz"
      },
      "source": [
        "-English and Math scores were weakly and positively correlated (r = 0.243, p < 0.001).\n",
        "\n",
        "-There was a significant average difference between English and Math scores (t = 36.313, p < 0.001).\n",
        "\n",
        "-On average, English scores were 17.30 points higher than Math scores"
      ]
    }
  ]
}