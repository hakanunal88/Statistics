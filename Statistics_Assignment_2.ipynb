{
  "nbformat": 4,
  "nbformat_minor": 0,
  "metadata": {
    "colab": {
      "name": "Statistics Assignment-2.ipynb",
      "provenance": [],
      "collapsed_sections": []
    },
    "kernelspec": {
      "name": "python3",
      "display_name": "Python 3"
    }
  },
  "cells": [
    {
      "cell_type": "markdown",
      "metadata": {
        "id": "K7S4cEyZLTp7"
      },
      "source": [
        "## Descriptive Statistics"
      ]
    },
    {
      "cell_type": "markdown",
      "metadata": {
        "id": "vZRYVyc8H7hi"
      },
      "source": [
        " Import **NumPy**, **SciPy**, and **Pandas**"
      ]
    },
    {
      "cell_type": "code",
      "metadata": {
        "id": "7ShN0klrHIk3"
      },
      "source": [
        "import numpy as np\n",
        "from scipy import stats\n",
        "import pandas as pd"
      ],
      "execution_count": 1,
      "outputs": []
    },
    {
      "cell_type": "markdown",
      "metadata": {
        "id": "_SaQURIqIA6d"
      },
      "source": [
        " Randomly generate 1,000 samples from the normal distribution using `np.random.normal()`(mean = 100, standard deviation = 15)"
      ]
    },
    {
      "cell_type": "code",
      "metadata": {
        "id": "Jyw_FMX0IRkm"
      },
      "source": [
        "samples = np.random.normal(size=1000, loc = 100, scale = 15) # samples = np.random.normal(100, 15, 1000)"
      ],
      "execution_count": 2,
      "outputs": []
    },
    {
      "cell_type": "markdown",
      "metadata": {
        "id": "CDF8m3a4IYOC"
      },
      "source": [
        "Compute the **mean**, **median**, and **mode**"
      ]
    },
    {
      "cell_type": "code",
      "metadata": {
        "id": "ZKbeqxaKIoNs"
      },
      "source": [
        "mean = np.mean(samples)\n",
        "median = np.median(samples)\n",
        "mode = stats.mode(samples)"
      ],
      "execution_count": 3,
      "outputs": []
    },
    {
      "cell_type": "markdown",
      "metadata": {
        "id": "skT8m39XI60w"
      },
      "source": [
        "Compute the **min**, **max**, **Q1**, **Q3**, and **interquartile range**"
      ]
    },
    {
      "cell_type": "code",
      "metadata": {
        "id": "VaiDphm8It0O"
      },
      "source": [
        "min = np.min(samples)\n",
        "max = np.max(samples)\n",
        "q1 = np.percentile(samples, 25, interpolation = 'midpoint')\n",
        "q3 = np.percentile(samples, 75, interpolation = 'midpoint')\n",
        "iqr = q3 - q1"
      ],
      "execution_count": 4,
      "outputs": []
    },
    {
      "cell_type": "markdown",
      "metadata": {
        "id": "m53Dv3n5JHQi"
      },
      "source": [
        "Compute the **variance** and **standard deviation**"
      ]
    },
    {
      "cell_type": "code",
      "metadata": {
        "id": "6JFaAYdrJbeN"
      },
      "source": [
        "variance = np.var(samples)\n",
        "std_dev = np.std(samples)"
      ],
      "execution_count": 5,
      "outputs": []
    },
    {
      "cell_type": "markdown",
      "metadata": {
        "id": "5eup4hI1JzqX"
      },
      "source": [
        "Compute the **skewness** and **kurtosis**"
      ]
    },
    {
      "cell_type": "code",
      "metadata": {
        "id": "YO3obyDnJ3_D"
      },
      "source": [
        "skewness = stats.skew(samples)\n",
        "kurtosis = stats.kurtosis(samples)"
      ],
      "execution_count": 6,
      "outputs": []
    },
    {
      "cell_type": "markdown",
      "metadata": {
        "id": "a5UNc8PUKnbU"
      },
      "source": [
        "## NumPy Correlation Calculation"
      ]
    },
    {
      "cell_type": "markdown",
      "metadata": {
        "id": "cLiqxE1CMNTg"
      },
      "source": [
        "Create an array x of integers between 10 (inclusive) and 20 (exclusive). Use `np.arange()`"
      ]
    },
    {
      "cell_type": "code",
      "metadata": {
        "id": "5LAaQ6w5L-2L"
      },
      "source": [
        "x = np.arange(10, 20)"
      ],
      "execution_count": 7,
      "outputs": []
    },
    {
      "cell_type": "markdown",
      "metadata": {
        "id": "qyCIaukNMZPf"
      },
      "source": [
        "Then use `np.array()` to create a second array y containing 10 arbitrary integers."
      ]
    },
    {
      "cell_type": "code",
      "metadata": {
        "id": "p27eW__gNMdh"
      },
      "source": [
        "y = np.array(np.random.randint(10, size=10))"
      ],
      "execution_count": 8,
      "outputs": []
    },
    {
      "cell_type": "markdown",
      "metadata": {
        "id": "Kh_VeKwINSqS"
      },
      "source": [
        "Once you have two arrays of the same length, you can compute the **correlation coefficient** between x and y"
      ]
    },
    {
      "cell_type": "code",
      "metadata": {
        "id": "yrtC6rPkNSDC"
      },
      "source": [
        "r = np.corrcoef(x, y)"
      ],
      "execution_count": 9,
      "outputs": []
    },
    {
      "cell_type": "markdown",
      "metadata": {
        "id": "vXieLjYiNtPi"
      },
      "source": [
        "## Pandas Correlation Calculation"
      ]
    },
    {
      "cell_type": "markdown",
      "metadata": {
        "id": "z56t0k0qNvkr"
      },
      "source": [
        "Run the code below"
      ]
    },
    {
      "cell_type": "code",
      "metadata": {
        "id": "9AVBMJCyNuwb"
      },
      "source": [
        "x = pd.Series(range(10, 20))\n",
        "y = pd.Series([2, 1, 4, 5, 8, 12, 18, 25, 96, 48])"
      ],
      "execution_count": 10,
      "outputs": []
    },
    {
      "cell_type": "markdown",
      "metadata": {
        "id": "ZajVXYe2OCih"
      },
      "source": [
        "Call the relevant method  to calculate Pearson's r correlation."
      ]
    },
    {
      "cell_type": "code",
      "metadata": {
        "id": "Ak_rkzbLOafj"
      },
      "source": [
        "r = x.corr(y)"
      ],
      "execution_count": 11,
      "outputs": []
    },
    {
      "cell_type": "markdown",
      "metadata": {
        "id": "1CygSbnROb9V"
      },
      "source": [
        "OPTIONAL. Call the relevant method to calculate Spearman's rho correlation."
      ]
    },
    {
      "cell_type": "code",
      "metadata": {
        "id": "xp_QkXwmOlYY"
      },
      "source": [
        "rho = x.corr(y, method='spearman')"
      ],
      "execution_count": 12,
      "outputs": []
    },
    {
      "cell_type": "markdown",
      "metadata": {
        "id": "we7pg7kdOo7y"
      },
      "source": [
        "## Seaborn Dataset Tips"
      ]
    },
    {
      "cell_type": "markdown",
      "metadata": {
        "id": "VlzgFKN7OvqX"
      },
      "source": [
        "Import Seaborn Library"
      ]
    },
    {
      "cell_type": "code",
      "metadata": {
        "id": "t-49JRRqO4pw"
      },
      "source": [
        "import seaborn as sns"
      ],
      "execution_count": 13,
      "outputs": []
    },
    {
      "cell_type": "markdown",
      "metadata": {
        "id": "0INVBB4tO4y4"
      },
      "source": [
        "Load \"tips\" dataset from Seaborn"
      ]
    },
    {
      "cell_type": "code",
      "metadata": {
        "id": "kieLvcM1PBv7"
      },
      "source": [
        "tips = sns.load_dataset(\"tips\")"
      ],
      "execution_count": 14,
      "outputs": []
    },
    {
      "cell_type": "code",
      "metadata": {
        "colab": {
          "base_uri": "https://localhost:8080/",
          "height": 203
        },
        "id": "6AYu0Tv2pey0",
        "outputId": "5fcbc680-6214-4e26-dfd3-55ad187df214"
      },
      "source": [
        "tips.head()"
      ],
      "execution_count": 15,
      "outputs": [
        {
          "output_type": "execute_result",
          "data": {
            "text/html": [
              "<div>\n",
              "<style scoped>\n",
              "    .dataframe tbody tr th:only-of-type {\n",
              "        vertical-align: middle;\n",
              "    }\n",
              "\n",
              "    .dataframe tbody tr th {\n",
              "        vertical-align: top;\n",
              "    }\n",
              "\n",
              "    .dataframe thead th {\n",
              "        text-align: right;\n",
              "    }\n",
              "</style>\n",
              "<table border=\"1\" class=\"dataframe\">\n",
              "  <thead>\n",
              "    <tr style=\"text-align: right;\">\n",
              "      <th></th>\n",
              "      <th>total_bill</th>\n",
              "      <th>tip</th>\n",
              "      <th>sex</th>\n",
              "      <th>smoker</th>\n",
              "      <th>day</th>\n",
              "      <th>time</th>\n",
              "      <th>size</th>\n",
              "    </tr>\n",
              "  </thead>\n",
              "  <tbody>\n",
              "    <tr>\n",
              "      <th>0</th>\n",
              "      <td>16.99</td>\n",
              "      <td>1.01</td>\n",
              "      <td>Female</td>\n",
              "      <td>No</td>\n",
              "      <td>Sun</td>\n",
              "      <td>Dinner</td>\n",
              "      <td>2</td>\n",
              "    </tr>\n",
              "    <tr>\n",
              "      <th>1</th>\n",
              "      <td>10.34</td>\n",
              "      <td>1.66</td>\n",
              "      <td>Male</td>\n",
              "      <td>No</td>\n",
              "      <td>Sun</td>\n",
              "      <td>Dinner</td>\n",
              "      <td>3</td>\n",
              "    </tr>\n",
              "    <tr>\n",
              "      <th>2</th>\n",
              "      <td>21.01</td>\n",
              "      <td>3.50</td>\n",
              "      <td>Male</td>\n",
              "      <td>No</td>\n",
              "      <td>Sun</td>\n",
              "      <td>Dinner</td>\n",
              "      <td>3</td>\n",
              "    </tr>\n",
              "    <tr>\n",
              "      <th>3</th>\n",
              "      <td>23.68</td>\n",
              "      <td>3.31</td>\n",
              "      <td>Male</td>\n",
              "      <td>No</td>\n",
              "      <td>Sun</td>\n",
              "      <td>Dinner</td>\n",
              "      <td>2</td>\n",
              "    </tr>\n",
              "    <tr>\n",
              "      <th>4</th>\n",
              "      <td>24.59</td>\n",
              "      <td>3.61</td>\n",
              "      <td>Female</td>\n",
              "      <td>No</td>\n",
              "      <td>Sun</td>\n",
              "      <td>Dinner</td>\n",
              "      <td>4</td>\n",
              "    </tr>\n",
              "  </tbody>\n",
              "</table>\n",
              "</div>"
            ],
            "text/plain": [
              "   total_bill   tip     sex smoker  day    time  size\n",
              "0       16.99  1.01  Female     No  Sun  Dinner     2\n",
              "1       10.34  1.66    Male     No  Sun  Dinner     3\n",
              "2       21.01  3.50    Male     No  Sun  Dinner     3\n",
              "3       23.68  3.31    Male     No  Sun  Dinner     2\n",
              "4       24.59  3.61  Female     No  Sun  Dinner     4"
            ]
          },
          "metadata": {
            "tags": []
          },
          "execution_count": 15
        }
      ]
    },
    {
      "cell_type": "markdown",
      "metadata": {
        "id": "o2ISqVQrPh5S"
      },
      "source": [
        "Generate descriptive statistics include those that summarize the central tendency, dispersion"
      ]
    },
    {
      "cell_type": "code",
      "metadata": {
        "id": "FyFvmdbJPVg6",
        "colab": {
          "base_uri": "https://localhost:8080/",
          "height": 142
        },
        "outputId": "963123e5-4406-484d-8d29-39f42ad3cc3c"
      },
      "source": [
        "tips.corr()"
      ],
      "execution_count": 16,
      "outputs": [
        {
          "output_type": "execute_result",
          "data": {
            "text/html": [
              "<div>\n",
              "<style scoped>\n",
              "    .dataframe tbody tr th:only-of-type {\n",
              "        vertical-align: middle;\n",
              "    }\n",
              "\n",
              "    .dataframe tbody tr th {\n",
              "        vertical-align: top;\n",
              "    }\n",
              "\n",
              "    .dataframe thead th {\n",
              "        text-align: right;\n",
              "    }\n",
              "</style>\n",
              "<table border=\"1\" class=\"dataframe\">\n",
              "  <thead>\n",
              "    <tr style=\"text-align: right;\">\n",
              "      <th></th>\n",
              "      <th>total_bill</th>\n",
              "      <th>tip</th>\n",
              "      <th>size</th>\n",
              "    </tr>\n",
              "  </thead>\n",
              "  <tbody>\n",
              "    <tr>\n",
              "      <th>total_bill</th>\n",
              "      <td>1.000000</td>\n",
              "      <td>0.675734</td>\n",
              "      <td>0.598315</td>\n",
              "    </tr>\n",
              "    <tr>\n",
              "      <th>tip</th>\n",
              "      <td>0.675734</td>\n",
              "      <td>1.000000</td>\n",
              "      <td>0.489299</td>\n",
              "    </tr>\n",
              "    <tr>\n",
              "      <th>size</th>\n",
              "      <td>0.598315</td>\n",
              "      <td>0.489299</td>\n",
              "      <td>1.000000</td>\n",
              "    </tr>\n",
              "  </tbody>\n",
              "</table>\n",
              "</div>"
            ],
            "text/plain": [
              "            total_bill       tip      size\n",
              "total_bill    1.000000  0.675734  0.598315\n",
              "tip           0.675734  1.000000  0.489299\n",
              "size          0.598315  0.489299  1.000000"
            ]
          },
          "metadata": {
            "tags": []
          },
          "execution_count": 16
        }
      ]
    },
    {
      "cell_type": "code",
      "metadata": {
        "colab": {
          "base_uri": "https://localhost:8080/"
        },
        "id": "IMUo5pBTph3K",
        "outputId": "0946b3bc-52e3-4831-9769-4cafb9099362"
      },
      "source": [
        "tips.total_bill.describe()"
      ],
      "execution_count": 17,
      "outputs": [
        {
          "output_type": "execute_result",
          "data": {
            "text/plain": [
              "count    244.000000\n",
              "mean      19.785943\n",
              "std        8.902412\n",
              "min        3.070000\n",
              "25%       13.347500\n",
              "50%       17.795000\n",
              "75%       24.127500\n",
              "max       50.810000\n",
              "Name: total_bill, dtype: float64"
            ]
          },
          "metadata": {
            "tags": []
          },
          "execution_count": 17
        }
      ]
    },
    {
      "cell_type": "code",
      "metadata": {
        "colab": {
          "base_uri": "https://localhost:8080/"
        },
        "id": "mP9BNgOhpjOS",
        "outputId": "850e5305-04d7-4ff1-9f12-a7285428d8f4"
      },
      "source": [
        "tips.tip.describe()"
      ],
      "execution_count": 18,
      "outputs": [
        {
          "output_type": "execute_result",
          "data": {
            "text/plain": [
              "count    244.000000\n",
              "mean       2.998279\n",
              "std        1.383638\n",
              "min        1.000000\n",
              "25%        2.000000\n",
              "50%        2.900000\n",
              "75%        3.562500\n",
              "max       10.000000\n",
              "Name: tip, dtype: float64"
            ]
          },
          "metadata": {
            "tags": []
          },
          "execution_count": 18
        }
      ]
    },
    {
      "cell_type": "markdown",
      "metadata": {
        "id": "3yCRK4VJPzRo"
      },
      "source": [
        "Call the relevant method to calculate pairwise Pearson's r correlation of columns"
      ]
    },
    {
      "cell_type": "code",
      "metadata": {
        "id": "qwvGzDU8PGnM",
        "colab": {
          "base_uri": "https://localhost:8080/"
        },
        "outputId": "6090cfbd-d12b-4b60-fa66-f47599ec1d70"
      },
      "source": [
        "r_tips = tips.total_bill.corr(tips.tip)\n",
        "r_tips"
      ],
      "execution_count": 19,
      "outputs": [
        {
          "output_type": "execute_result",
          "data": {
            "text/plain": [
              "0.6757341092113641"
            ]
          },
          "metadata": {
            "tags": []
          },
          "execution_count": 19
        }
      ]
    }
  ]
}